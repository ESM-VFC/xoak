{
 "cells": [
  {
   "cell_type": "markdown",
   "metadata": {},
   "source": [
    "# Custom Indexes\n",
    "\n",
    "While `xoak` provides some built-in index wrappers, it is easy to wrap and register new indexes. "
   ]
  },
  {
   "cell_type": "code",
   "execution_count": null,
   "metadata": {},
   "outputs": [],
   "source": [
    "import numpy as np\n",
    "import xarray as xr\n",
    "import xoak"
   ]
  },
  {
   "cell_type": "markdown",
   "metadata": {},
   "source": [
    "This returns the list of built-in indexes in `xoak`:"
   ]
  },
  {
   "cell_type": "code",
   "execution_count": null,
   "metadata": {},
   "outputs": [],
   "source": [
    "xoak.indexes"
   ]
  },
  {
   "cell_type": "markdown",
   "metadata": {},
   "source": [
    "## Example: add a brute-force index\n",
    "\n",
    "Every `xoak` supported index is a subclass of `xoak.IndexAdapter` that must implement the `build` and `query` methods. The `xoak.register_index` decorator may be used to register a new index.\n",
    "\n",
    "Let's create and register a new \"index\", which simply performs brute-force nearest-neighbor lookup by computing the pairwise distances between all index and query points and finding the minimum distance. "
   ]
  },
  {
   "cell_type": "code",
   "execution_count": null,
   "metadata": {},
   "outputs": [],
   "source": [
    "from sklearn.metrics.pairwise import pairwise_distances_argmin_min\n",
    "\n",
    "\n",
    "@xoak.register_index('brute_force')\n",
    "class BruteForceIndex(xoak.IndexAdapter):\n",
    "    \n",
    "    def build(self, points):\n",
    "        # there is no index to build here, just return the points\n",
    "        return points\n",
    "    \n",
    "    def query(self, index, points):\n",
    "        positions, distances = pairwise_distances_argmin_min(points, index)\n",
    "        return distances, positions\n"
   ]
  },
  {
   "cell_type": "markdown",
   "metadata": {},
   "source": [
    "This new index now appears in the list of `xoak` registered indexes:"
   ]
  },
  {
   "cell_type": "code",
   "execution_count": null,
   "metadata": {},
   "outputs": [],
   "source": [
    "xoak.indexes"
   ]
  },
  {
   "cell_type": "markdown",
   "metadata": {},
   "source": [
    "Let's use this index in the basic example below:"
   ]
  },
  {
   "cell_type": "code",
   "execution_count": null,
   "metadata": {},
   "outputs": [],
   "source": [
    "# create mesh\n",
    "shape = (100, 100)\n",
    "lat = np.random.uniform(-90, 90, size=shape)\n",
    "lon = np.random.uniform(-180, 180, size=shape)\n",
    "\n",
    "field = lat + lon\n",
    "\n",
    "ds_mesh = xr.Dataset(\n",
    "    coords={'lat': (('x', 'y'), lat), 'lon': (('x', 'y'), lon)},\n",
    "    data_vars={'field': (('x', 'y'), field)},\n",
    ")\n",
    "\n",
    "# set the brute-force index (doesn't really build any index in this case)\n",
    "ds_mesh.xoak.set_index(['lat', 'lon'], 'brute_force')\n",
    "\n",
    "# create trajectory points\n",
    "ds_trajectory = xr.Dataset({\n",
    "    'latitude': ('trajectory', np.linspace(-10, 40, 30)),\n",
    "    'longitude': ('trajectory', np.linspace(-150, 150, 30))\n",
    "})\n",
    "\n",
    "# select mesh points\n",
    "ds_selection = ds_mesh.xoak.sel(\n",
    "    lat=ds_trajectory.latitude,\n",
    "    lon=ds_trajectory.longitude\n",
    ")\n",
    "\n",
    "# plot results\n",
    "ds_trajectory.plot.scatter(x='longitude', y='latitude', c='k', alpha=0.7);\n",
    "ds_selection.plot.scatter(x='lon', y='lat', hue='field', alpha=0.9);"
   ]
  },
  {
   "cell_type": "code",
   "execution_count": null,
   "metadata": {},
   "outputs": [],
   "source": []
  }
 ],
 "metadata": {
  "kernelspec": {
   "display_name": "Python [conda env:xoak_dev]",
   "language": "python",
   "name": "conda-env-xoak_dev-py"
  },
  "language_info": {
   "codemirror_mode": {
    "name": "ipython",
    "version": 3
   },
   "file_extension": ".py",
   "mimetype": "text/x-python",
   "name": "python",
   "nbconvert_exporter": "python",
   "pygments_lexer": "ipython3",
   "version": "3.8.6"
  }
 },
 "nbformat": 4,
 "nbformat_minor": 4
}
